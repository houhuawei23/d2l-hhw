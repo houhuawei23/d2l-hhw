{
 "cells": [
  {
   "cell_type": "code",
   "execution_count": 1,
   "metadata": {},
   "outputs": [
    {
     "name": "stdout",
     "output_type": "stream",
     "text": [
      "num_cores:  16\n",
      "num_cores:  16\n"
     ]
    },
    {
     "ename": "ImportError",
     "evalue": "cannot import name 'train' from 'tensorkit.network' (/home/hhw/d2l/tensorkit/network.py)",
     "output_type": "error",
     "traceback": [
      "\u001b[0;31m---------------------------------------------------------------------------\u001b[0m",
      "\u001b[0;31mImportError\u001b[0m                               Traceback (most recent call last)",
      "Cell \u001b[0;32mIn[1], line 17\u001b[0m\n\u001b[1;32m     15\u001b[0m lr, num_epochs, batch_size \u001b[39m=\u001b[39m \u001b[39m0.5\u001b[39m, \u001b[39m10\u001b[39m, \u001b[39m128\u001b[39m\n\u001b[1;32m     16\u001b[0m train_iter, test_iter \u001b[39m=\u001b[39m load_mnist(batch_size)\n\u001b[0;32m---> 17\u001b[0m \u001b[39mfrom\u001b[39;00m \u001b[39mtensorkit\u001b[39;00m\u001b[39m.\u001b[39;00m\u001b[39mnetwork\u001b[39;00m \u001b[39mimport\u001b[39;00m train\n\u001b[1;32m     18\u001b[0m \u001b[39mfrom\u001b[39;00m \u001b[39mtensorkit\u001b[39;00m\u001b[39m.\u001b[39;00m\u001b[39mutils\u001b[39;00m \u001b[39mimport\u001b[39;00m try_gpu\n\u001b[1;32m     19\u001b[0m net \u001b[39m=\u001b[39m train(LeNet, train_iter, test_iter, \n\u001b[1;32m     20\u001b[0m       num_epochs, lr, device\u001b[39m=\u001b[39mtry_gpu(\u001b[39m0\u001b[39m), \n\u001b[1;32m     21\u001b[0m       save_dir\u001b[39m=\u001b[39msave_dir, fname\u001b[39m=\u001b[39m\u001b[39m\"\u001b[39m\u001b[39mlenet.png\u001b[39m\u001b[39m\"\u001b[39m)\n",
      "\u001b[0;31mImportError\u001b[0m: cannot import name 'train' from 'tensorkit.network' (/home/hhw/d2l/tensorkit/network.py)"
     ]
    }
   ],
   "source": [
    "import os\n",
    "\n",
    "from tensorkit.network import LeNet\n",
    "from tensorkit.train import train\n",
    "from tensorkit.datasets.load import load_mnist\n",
    "from tensorkit.utils import try_gpu\n",
    "\n",
    "%matplotlib inline\n",
    "\n",
    "BASE_DIR = os.environ.get('BASE_DIR')\n",
    "\n",
    "\n",
    "save_dir = os.path.join(BASE_DIR, 'd2l-hhw', 'cnn', 'results')\n",
    "if not os.path.exists(save_dir):\n",
    "    os.makedirs(save_dir)\n",
    "lr, num_epochs, batch_size = 0.5, 10, 128\n",
    "train_iter, test_iter = load_mnist(batch_size)\n",
    "net = train(LeNet, train_iter, test_iter, \n",
    "      num_epochs, lr, device=try_gpu(0), \n",
    "      save_dir=save_dir, fname=\"lenet.png\")\n"
   ]
  },
  {
   "cell_type": "code",
   "execution_count": 2,
   "metadata": {},
   "outputs": [
    {
     "data": {
      "text/plain": [
       "'/home/hhw/d2l/'"
      ]
     },
     "execution_count": 2,
     "metadata": {},
     "output_type": "execute_result"
    }
   ],
   "source": [
    "BASE_DIR"
   ]
  }
 ],
 "metadata": {
  "kernelspec": {
   "display_name": "d2l",
   "language": "python",
   "name": "python3"
  },
  "language_info": {
   "codemirror_mode": {
    "name": "ipython",
    "version": 3
   },
   "file_extension": ".py",
   "mimetype": "text/x-python",
   "name": "python",
   "nbconvert_exporter": "python",
   "pygments_lexer": "ipython3",
   "version": "3.11.4"
  },
  "orig_nbformat": 4
 },
 "nbformat": 4,
 "nbformat_minor": 2
}
