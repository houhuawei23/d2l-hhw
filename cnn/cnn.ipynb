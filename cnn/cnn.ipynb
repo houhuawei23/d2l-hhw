{
 "cells": [
  {
   "cell_type": "code",
   "execution_count": 3,
   "metadata": {},
   "outputs": [
    {
     "name": "stdout",
     "output_type": "stream",
     "text": [
      "num_cores:  16\n",
      "num_cores:  16\n",
      "training on cuda:0\n",
      "epoch 1, loss 2.3146, train acc 0.104, test acc 0.101, time 4.6 sec\n",
      "epoch 2, loss 2.3015, train acc 0.110, test acc 0.096, time 3.7 sec\n",
      "epoch 3, loss 1.4903, train acc 0.470, test acc 0.867, time 3.8 sec\n",
      "epoch 4, loss 0.3028, train acc 0.909, test acc 0.939, time 3.4 sec\n",
      "epoch 5, loss 0.1722, train acc 0.947, test acc 0.959, time 3.8 sec\n",
      "epoch 6, loss 0.1259, train acc 0.961, test acc 0.966, time 4.4 sec\n",
      "epoch 7, loss 0.1030, train acc 0.968, test acc 0.975, time 4.4 sec\n",
      "epoch 8, loss 0.0892, train acc 0.972, test acc 0.975, time 4.7 sec\n",
      "epoch 9, loss 0.0797, train acc 0.975, test acc 0.977, time 5.6 sec\n",
      "epoch 10, loss 0.0721, train acc 0.977, test acc 0.981, time 6.0 sec\n"
     ]
    }
   ],
   "source": [
    "import os\n",
    "\n",
    "from tensorkit.network import LeNet\n",
    "from tensorkit.train import train\n",
    "from tensorkit.datasets.load import load_mnist\n",
    "from tensorkit.utils import try_gpu\n",
    "\n",
    "%matplotlib inline\n",
    "\n",
    "BASE_DIR = os.environ.get('BASE_DIR')\n",
    "\n",
    "\n",
    "save_dir = os.path.join(BASE_DIR, 'd2l-hhw', 'cnn', 'results')\n",
    "if not os.path.exists(save_dir):\n",
    "    os.makedirs(save_dir)\n",
    "lr, num_epochs, batch_size = 0.5, 10, 128\n",
    "train_iter, test_iter = load_mnist(batch_size)\n",
    "net = train(LeNet, train_iter, test_iter, num_epochs, lr, device=try_gpu(0))\n"
   ]
  },
  {
   "cell_type": "code",
   "execution_count": 2,
   "metadata": {},
   "outputs": [
    {
     "data": {
      "text/plain": [
       "'/home/hhw/d2l/'"
      ]
     },
     "execution_count": 2,
     "metadata": {},
     "output_type": "execute_result"
    }
   ],
   "source": [
    "BASE_DIR"
   ]
  }
 ],
 "metadata": {
  "kernelspec": {
   "display_name": "d2l",
   "language": "python",
   "name": "python3"
  },
  "language_info": {
   "codemirror_mode": {
    "name": "ipython",
    "version": 3
   },
   "file_extension": ".py",
   "mimetype": "text/x-python",
   "name": "python",
   "nbconvert_exporter": "python",
   "pygments_lexer": "ipython3",
   "version": "3.11.4"
  },
  "orig_nbformat": 4
 },
 "nbformat": 4,
 "nbformat_minor": 2
}
